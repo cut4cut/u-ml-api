{
 "metadata": {
  "language_info": {
   "codemirror_mode": {
    "name": "ipython",
    "version": 3
   },
   "file_extension": ".py",
   "mimetype": "text/x-python",
   "name": "python",
   "nbconvert_exporter": "python",
   "pygments_lexer": "ipython3",
   "version": "3.7.2-final"
  },
  "orig_nbformat": 2,
  "kernelspec": {
   "name": "python3",
   "display_name": "Python 3"
  }
 },
 "nbformat": 4,
 "nbformat_minor": 2,
 "cells": [
  {
   "cell_type": "code",
   "execution_count": 118,
   "metadata": {},
   "outputs": [],
   "source": [
    "import sys\n",
    "import inspect\n",
    "import pandas as pd\n",
    "\n",
    "from os import listdir\n",
    "from datetime import datetime\n",
    "from calendar import monthrange\n",
    "from os.path import isfile, join\n",
    "\n",
    "from xlrd import XLRDError\n"
   ]
  },
  {
   "cell_type": "code",
   "execution_count": 2,
   "metadata": {},
   "outputs": [],
   "source": [
    "sys.path.append(\"..\") \n",
    "\n",
    "from api.utilies import fileworker as fw"
   ]
  },
  {
   "cell_type": "code",
   "execution_count": 3,
   "metadata": {},
   "outputs": [],
   "source": [
    "worker = fw.Worker()"
   ]
  },
  {
   "cell_type": "code",
   "execution_count": 4,
   "metadata": {},
   "outputs": [],
   "source": [
    "path = '../data/raw'"
   ]
  },
  {
   "cell_type": "code",
   "execution_count": 125,
   "metadata": {},
   "outputs": [],
   "source": [
    "russian_months = [  'январь', 'февраль', 'март',\n",
    "                    'апрель', 'май', 'июнь', 'июль',\n",
    "                    'август', 'сентябрь', 'октябрь',\n",
    "                    'ноябрь', 'декабрь' ]\n",
    "\n",
    "def filter(f, key_word='ССПС'):\n",
    "    if f.find(key_word) > -1:\n",
    "        if f.find('~$') == -1:\n",
    "            return isfile(join(path, f))\n",
    "\n",
    "\n",
    "def parse_dt(dt):\n",
    "    if isinstance(dt, str):\n",
    "        return datetime.strptime(dt, '%d.%m.%Y')\n",
    "    else:\n",
    "        return dt\n",
    "\n",
    "def find_dt(string):\n",
    "    return string.split()[3]"
   ]
  },
  {
   "cell_type": "code",
   "execution_count": 50,
   "metadata": {},
   "outputs": [],
   "source": [
    "def read_apvo(file_name, path='../data/raw'):\n",
    "    file_path = path + '/' + file_name\n",
    "    names = ['company', 'type', 'volume', 'work_area', 'work_kind', 'work_done_phis', 'work_done_pas', 'window']\n",
    "\n",
    "    desc = pd.read_excel(file_path, nrows=2, sheet_name=0)\n",
    "    #print(type(desc.iloc[1,0]), desc.iloc[1,0])\n",
    "    report_dt = parse_dt(desc.iloc[1,0])\n",
    "\n",
    "    year = report_dt.year\n",
    "    month = report_dt.month\n",
    "\n",
    "    max_day = monthrange(year, month)[1]\n",
    "\n",
    "    if russian_months[month-1] != file_name.split()[1]:\n",
    "        print(russian_months[month-1] , file_name.split()[1])\n",
    "        return 'ERROR'\n",
    "\n",
    "    data = pd.read_excel(file_path, skiprows=[1,2,3,4], sheet_name=0, names=names)\n",
    "    data.drop(data.tail(3).index, inplace=True)\n",
    "    data['date'] = report_dt\n",
    "\n",
    "\n",
    "    print('File name: {0}, first day: {1}, max days in month: {2}'.format(file_path, report_dt, max_day))\n",
    "\n",
    "    for day in range(1, max_day):\n",
    "            desc = pd.read_excel(file_path, nrows=2, sheet_name=day)\n",
    "            report_dt = parse_dt(desc.iloc[1,0])\n",
    "            #print(day, report_dt)\n",
    "            day_data = pd.read_excel(file_path, skiprows=[1,2,3,4], sheet_name=day, names=names)\n",
    "            day_data.drop(day_data.tail(3).index, inplace=True)\n",
    "            day_data['date'] = report_dt\n",
    "\n",
    "            data = pd.concat([data, day_data])\n",
    "\n",
    "    data = data.reset_index(drop=True)\n",
    "\n",
    "    return data"
   ]
  },
  {
   "cell_type": "code",
   "execution_count": 160,
   "metadata": {},
   "outputs": [],
   "source": [
    "def read_ssps(file_name, path='../data/raw'):\n",
    "    file_path = path + '/' + file_name\n",
    "    names = ['company', 'machine', 'au12', 'rate_norm', 'rate_fact', 'low_rate', 'up_rate', 'residue']\n",
    "    sheet_number = 1\n",
    "    use_int = False\n",
    "    sheet_name = str(sheet_number).zfill(2)\n",
    "    #print(file_name)\n",
    "\n",
    "    try:\n",
    "        desc = pd.read_excel(file_path, nrows=1, sheet_name=sheet_name)\n",
    "    except XLRDError:\n",
    "        sheet_number = 0\n",
    "        use_int = True\n",
    "        desc = pd.read_excel(file_path, nrows=1, sheet_name=sheet_number)\n",
    "\n",
    "    \n",
    "    dt = find_dt(desc.iloc[0,0])\n",
    "    report_dt = parse_dt(dt)\n",
    "    #print(file_name, dt, report_dt)\n",
    "\n",
    "    year = report_dt.year\n",
    "    month = report_dt.month\n",
    "\n",
    "    max_day = monthrange(year, month)[1]\n",
    "\n",
    "    if russian_months[month-1] != file_name.split()[2]:\n",
    "        print(russian_months[month-1] , file_name.split()[2])\n",
    "        return 'ERROR'\n",
    "\n",
    "    print('File name: {0}, first day: {1}, max days in month: {2}'.format(file_path, report_dt, max_day))\n",
    "\n",
    "    if use_int:\n",
    "        data = pd.read_excel(file_path, skiprows=[1,2,3,4,5,6,7], sheet_name=sheet_number, names=names)\n",
    "    else:\n",
    "        data = pd.read_excel(file_path, skiprows=[1,2,3,4,5,6,7], sheet_name=sheet_name, names=names)\n",
    "\n",
    "    data['date'] = report_dt\n",
    "\n",
    "    for day in range(sheet_number+1, max_day+sheet_number):\n",
    "        try:\n",
    "            if use_int:\n",
    "                desc = pd.read_excel(file_path, nrows=1, sheet_name=day)\n",
    "            else:\n",
    "                sheet_name = str(day).zfill(2)\n",
    "                desc = pd.read_excel(file_path, nrows=1, sheet_name=sheet_name)\n",
    "\n",
    "            dt = find_dt(desc.iloc[0,0])\n",
    "            report_dt = parse_dt(dt)\n",
    "            \n",
    "            if use_int:\n",
    "                day_data = pd.read_excel(file_path, skiprows=[1,2,3,4,5,6,7], sheet_name=day, names=names)\n",
    "            else:\n",
    "                day_data = pd.read_excel(file_path, skiprows=[1,2,3,4,5,6,7], sheet_name=sheet_name, names=names)\n",
    "\n",
    "            day_data['date'] = report_dt\n",
    "\n",
    "            data = pd.concat([data, day_data])\n",
    "        except IndexError:\n",
    "            print('IndexError')\n",
    "\n",
    "    data = data.reset_index(drop=True)\n",
    "\n",
    "    return data"
   ]
  },
  {
   "cell_type": "code",
   "execution_count": 132,
   "metadata": {},
   "outputs": [],
   "source": [
    "def load_files(files, func):\n",
    "    data = func(files[0])\n",
    "    for item in range(1, len(files)):\n",
    "        df = func(files[item])\n",
    "        data = pd.concat([data, df])\n",
    "    \n",
    "    data = data.reset_index(drop=True)\n",
    "\n",
    "    return data\n",
    "        "
   ]
  },
  {
   "cell_type": "code",
   "execution_count": 127,
   "metadata": {},
   "outputs": [],
   "source": [
    "ssps_files  = [f for f in listdir(path) if filter(f, key_word='ССПС')]\n",
    "apvo_files  = [f for f in listdir(path) if filter(f, key_word='АПВО')]"
   ]
  },
  {
   "cell_type": "code",
   "execution_count": 51,
   "metadata": {},
   "outputs": [
    {
     "output_type": "stream",
     "name": "stdout",
     "text": [
      "File name: ../data/raw/АПВО октябрь 19.xls, first day: 2019-10-01 00:00:00, max days in month: 31\n",
      "File name: ../data/raw/АПВО июль 20.xls, first day: 2020-07-01 00:00:00, max days in month: 31\n",
      "File name: ../data/raw/АПВО август 20.xlsx, first day: 2020-08-01 00:00:00, max days in month: 31\n",
      "File name: ../data/raw/АПВО апрель 19.xls, first day: 2019-04-01 00:00:00, max days in month: 30\n",
      "File name: ../data/raw/АПВО август 20.xls, first day: 2020-08-01 00:00:00, max days in month: 31\n",
      "File name: ../data/raw/АПВО июнь 20.xls, first day: 2020-06-01 00:00:00, max days in month: 30\n",
      "File name: ../data/raw/АПВО июнь 19.xls, first day: 2019-06-01 00:00:00, max days in month: 30\n",
      "File name: ../data/raw/АПВО апрель 20.xls, first day: 2020-04-01 00:00:00, max days in month: 30\n",
      "File name: ../data/raw/АПВО сентябрь 20.xlsx, first day: 2020-09-01 00:00:00, max days in month: 30\n",
      "File name: ../data/raw/АПВО май 19.xls, first day: 2019-05-01 00:00:00, max days in month: 31\n",
      "File name: ../data/raw/АПВО май 20.xls, first day: 2020-05-01 00:00:00, max days in month: 31\n"
     ]
    }
   ],
   "source": [
    "apvo_data = load_files(apvo_files, read_apvo)"
   ]
  },
  {
   "cell_type": "code",
   "execution_count": 52,
   "metadata": {},
   "outputs": [
    {
     "output_type": "execute_result",
     "data": {
      "text/plain": [
       "                                        company                          type  \\\n",
       "0          ПЧ-23, ШЧ-9, ДС ЯКУШКА, ДСП АМИРОВКА    Унимат 08-275/3S№ 00000040   \n",
       "1        ПЧ-23, ШЧ-9, ДС ПОГРУЗНАЯ, ДСП Кармала    Унимат 08-275/3S№ 00000040   \n",
       "2      ПЧ-23, ШЧ-9, ДС ЯКУШКА, ДСП Б/П 1028 КМ     Унимат 08-275/3S№ 00000040   \n",
       "3                      ПЧ-14, РЦС-3, ШЧ-6, ЭЧ-7  ДУОМАТИК 09-32 GSM№ 00000035   \n",
       "4                      ПЧ-14, РЦС-3, ШЧ-6, ЭЧ-7              РПБ-01№ 00000108   \n",
       "...                                         ...                           ...   \n",
       "41531            ПЧ-20, ДС САРАНСК, ДС ЕЛОХОВКА              ПМА-1М№ 00000012   \n",
       "41532            ПЧ-20, ДС САРАНСК, ДС ЕЛОХОВКА              РПБ-01№ 00000051   \n",
       "41533            ПЧ-20, ДС САРАНСК, ДС ЕЛОХОВКА              ПМА-1М№ 00000012   \n",
       "41534            ПЧ-20, ДС САРАНСК, ДС ЕЛОХОВКА              ПМА-1М№ 00000012   \n",
       "41535            ПЧ-20, ДС САРАНСК, ДС ЕЛОХОВКА              РПБ-01№ 00000051   \n",
       "\n",
       "      volume                                       work_area        work_kind  \\\n",
       "0                                            АМИРОВКА  СТР 1    Работа УНИМАТ   \n",
       "1                               КАРМАЛА ,    п. 1      СТР 2    Работа УНИМАТ   \n",
       "2                                          ОП 1028 КМ  СТР 1    Работа УНИМАТ   \n",
       "3              АСЕКЕЕВО-ФИЛИППОВКА ,   п.2 1310пк8-1329пк10   Работа ДУОМАТИК   \n",
       "4              АСЕКЕЕВО-ФИЛИППОВКА ,   п.2 1310пк8-1329пк10        Работа РПБ   \n",
       "...      ...                                             ...              ...   \n",
       "41531                                                                           \n",
       "41532                                                                           \n",
       "41533                                                                           \n",
       "41534                                                                           \n",
       "41535                                                                           \n",
       "\n",
       "      work_done_phis work_done_pas      window       date  \n",
       "0        1.0 стрелка                     120/0 2019-10-01  \n",
       "1        1.0 стрелка                      90/0 2019-10-01  \n",
       "2        1.0 стрелка                     120/0 2019-10-01  \n",
       "3           1000.0 м                     120/0 2019-10-01  \n",
       "4           1000.0 м                     120/0 2019-10-01  \n",
       "...              ...           ...         ...        ...  \n",
       "41531                               НЕТ ЗАЯВОК 2020-05-31  \n",
       "41532                               НЕТ ЗАЯВОК 2020-05-31  \n",
       "41533                               НЕТ ЗАЯВОК 2020-05-31  \n",
       "41534                               НЕТ ЗАЯВОК 2020-05-31  \n",
       "41535                               НЕТ ЗАЯВОК 2020-05-31  \n",
       "\n",
       "[41536 rows x 9 columns]"
      ],
      "text/html": "<div>\n<style scoped>\n    .dataframe tbody tr th:only-of-type {\n        vertical-align: middle;\n    }\n\n    .dataframe tbody tr th {\n        vertical-align: top;\n    }\n\n    .dataframe thead th {\n        text-align: right;\n    }\n</style>\n<table border=\"1\" class=\"dataframe\">\n  <thead>\n    <tr style=\"text-align: right;\">\n      <th></th>\n      <th>company</th>\n      <th>type</th>\n      <th>volume</th>\n      <th>work_area</th>\n      <th>work_kind</th>\n      <th>work_done_phis</th>\n      <th>work_done_pas</th>\n      <th>window</th>\n      <th>date</th>\n    </tr>\n  </thead>\n  <tbody>\n    <tr>\n      <th>0</th>\n      <td>ПЧ-23, ШЧ-9, ДС ЯКУШКА, ДСП АМИРОВКА</td>\n      <td>Унимат 08-275/3S№ 00000040</td>\n      <td></td>\n      <td>АМИРОВКА  СТР 1</td>\n      <td>Работа УНИМАТ</td>\n      <td>1.0 стрелка</td>\n      <td></td>\n      <td>120/0</td>\n      <td>2019-10-01</td>\n    </tr>\n    <tr>\n      <th>1</th>\n      <td>ПЧ-23, ШЧ-9, ДС ПОГРУЗНАЯ, ДСП Кармала</td>\n      <td>Унимат 08-275/3S№ 00000040</td>\n      <td></td>\n      <td>КАРМАЛА ,    п. 1      СТР 2</td>\n      <td>Работа УНИМАТ</td>\n      <td>1.0 стрелка</td>\n      <td></td>\n      <td>90/0</td>\n      <td>2019-10-01</td>\n    </tr>\n    <tr>\n      <th>2</th>\n      <td>ПЧ-23, ШЧ-9, ДС ЯКУШКА, ДСП Б/П 1028 КМ</td>\n      <td>Унимат 08-275/3S№ 00000040</td>\n      <td></td>\n      <td>ОП 1028 КМ  СТР 1</td>\n      <td>Работа УНИМАТ</td>\n      <td>1.0 стрелка</td>\n      <td></td>\n      <td>120/0</td>\n      <td>2019-10-01</td>\n    </tr>\n    <tr>\n      <th>3</th>\n      <td>ПЧ-14, РЦС-3, ШЧ-6, ЭЧ-7</td>\n      <td>ДУОМАТИК 09-32 GSM№ 00000035</td>\n      <td></td>\n      <td>АСЕКЕЕВО-ФИЛИППОВКА ,   п.2 1310пк8-1329пк10</td>\n      <td>Работа ДУОМАТИК</td>\n      <td>1000.0 м</td>\n      <td></td>\n      <td>120/0</td>\n      <td>2019-10-01</td>\n    </tr>\n    <tr>\n      <th>4</th>\n      <td>ПЧ-14, РЦС-3, ШЧ-6, ЭЧ-7</td>\n      <td>РПБ-01№ 00000108</td>\n      <td></td>\n      <td>АСЕКЕЕВО-ФИЛИППОВКА ,   п.2 1310пк8-1329пк10</td>\n      <td>Работа РПБ</td>\n      <td>1000.0 м</td>\n      <td></td>\n      <td>120/0</td>\n      <td>2019-10-01</td>\n    </tr>\n    <tr>\n      <th>...</th>\n      <td>...</td>\n      <td>...</td>\n      <td>...</td>\n      <td>...</td>\n      <td>...</td>\n      <td>...</td>\n      <td>...</td>\n      <td>...</td>\n      <td>...</td>\n    </tr>\n    <tr>\n      <th>41531</th>\n      <td>ПЧ-20, ДС САРАНСК, ДС ЕЛОХОВКА</td>\n      <td>ПМА-1М№ 00000012</td>\n      <td></td>\n      <td></td>\n      <td></td>\n      <td></td>\n      <td></td>\n      <td>НЕТ ЗАЯВОК</td>\n      <td>2020-05-31</td>\n    </tr>\n    <tr>\n      <th>41532</th>\n      <td>ПЧ-20, ДС САРАНСК, ДС ЕЛОХОВКА</td>\n      <td>РПБ-01№ 00000051</td>\n      <td></td>\n      <td></td>\n      <td></td>\n      <td></td>\n      <td></td>\n      <td>НЕТ ЗАЯВОК</td>\n      <td>2020-05-31</td>\n    </tr>\n    <tr>\n      <th>41533</th>\n      <td>ПЧ-20, ДС САРАНСК, ДС ЕЛОХОВКА</td>\n      <td>ПМА-1М№ 00000012</td>\n      <td></td>\n      <td></td>\n      <td></td>\n      <td></td>\n      <td></td>\n      <td>НЕТ ЗАЯВОК</td>\n      <td>2020-05-31</td>\n    </tr>\n    <tr>\n      <th>41534</th>\n      <td>ПЧ-20, ДС САРАНСК, ДС ЕЛОХОВКА</td>\n      <td>ПМА-1М№ 00000012</td>\n      <td></td>\n      <td></td>\n      <td></td>\n      <td></td>\n      <td></td>\n      <td>НЕТ ЗАЯВОК</td>\n      <td>2020-05-31</td>\n    </tr>\n    <tr>\n      <th>41535</th>\n      <td>ПЧ-20, ДС САРАНСК, ДС ЕЛОХОВКА</td>\n      <td>РПБ-01№ 00000051</td>\n      <td></td>\n      <td></td>\n      <td></td>\n      <td></td>\n      <td></td>\n      <td>НЕТ ЗАЯВОК</td>\n      <td>2020-05-31</td>\n    </tr>\n  </tbody>\n</table>\n<p>41536 rows × 9 columns</p>\n</div>"
     },
     "metadata": {},
     "execution_count": 52
    }
   ],
   "source": [
    "apvo_data"
   ]
  },
  {
   "cell_type": "code",
   "execution_count": 161,
   "metadata": {
    "tags": []
   },
   "outputs": [
    {
     "output_type": "stream",
     "name": "stdout",
     "text": [
      "File name: ../data/raw/работа ССПС август 20.xlsx, first day: 2020-08-01 00:00:00, max days in month: 31\n",
      "File name: ../data/raw/работа ССПС сентябрь 20.xlsx, first day: 2020-09-01 00:00:00, max days in month: 30\n",
      "File name: ../data/raw/работа ССПС май 19.xlsx, first day: 2019-05-01 00:00:00, max days in month: 31\n",
      "File name: ../data/raw/работа ССПС июнь 20.xls, first day: 2020-06-01 00:00:00, max days in month: 30\n",
      "IndexError\n",
      "IndexError\n",
      "IndexError\n",
      "IndexError\n",
      "IndexError\n",
      "IndexError\n",
      "IndexError\n",
      "IndexError\n",
      "IndexError\n",
      "IndexError\n",
      "IndexError\n",
      "IndexError\n",
      "IndexError\n",
      "IndexError\n",
      "IndexError\n",
      "IndexError\n",
      "IndexError\n",
      "IndexError\n",
      "IndexError\n",
      "IndexError\n",
      "File name: ../data/raw/работа ССПС июль 20.xlsx, first day: 2020-07-01 00:00:00, max days in month: 31\n",
      "File name: ../data/raw/работа ССПС апрель 20.xlsx, first day: 2020-04-01 00:00:00, max days in month: 30\n",
      "File name: ../data/raw/работа ССПС апрель 19.xlsx, first day: 2019-04-01 00:00:00, max days in month: 30\n",
      "File name: ../data/raw/работа ССПС июнь 19.xlsx, first day: 2019-06-01 00:00:00, max days in month: 30\n",
      "File name: ../data/raw/работа ССПС май 20.xlsx, first day: 2020-05-01 00:00:00, max days in month: 31\n",
      "File name: ../data/raw/работа ССПС сентябрь 19.xlsx, first day: 2019-09-01 00:00:00, max days in month: 30\n"
     ]
    }
   ],
   "source": [
    "ssps_data = load_files(ssps_files, read_ssps)"
   ]
  },
  {
   "cell_type": "code",
   "execution_count": 162,
   "metadata": {},
   "outputs": [
    {
     "output_type": "execute_result",
     "data": {
      "text/plain": [
       "       company                   machine  au12 rate_norm rate_fact low_rate  \\\n",
       "0            1             ЩОМ-1200 № 16     1         -         -        -   \n",
       "1            2            ЩОМ-1200М № 19     1         -         -        -   \n",
       "2            3              ТЭС-1000 № 3     1         -         -        -   \n",
       "3            4             ТЭС-1000 № 16     1         -         -        -   \n",
       "4            5             ТЭС-1000 № 19     1         -         -        -   \n",
       "...        ...                       ...   ...       ...       ...      ...   \n",
       "31600       46               СМ-2 № 1596     1         -         -        -   \n",
       "31601       47               СМ-2 № 1643     1         -         -        -   \n",
       "31602       48               СМ-2 № 1764     1         -         -        -   \n",
       "31603       49           ТЭС ПСС-1К № 62     1     267.4       254     13.4   \n",
       "31604       50  КЖТ-4РС (KGT-4RS) № 4882     1         -       100        -   \n",
       "\n",
       "      up_rate residue       date  \n",
       "0           -     622 2020-08-01  \n",
       "1           -    1395 2020-08-01  \n",
       "2           -    2243 2020-08-01  \n",
       "3           -    2268 2020-08-01  \n",
       "4           -    3004 2020-08-01  \n",
       "...       ...     ...        ...  \n",
       "31600       -       5 2019-09-30  \n",
       "31601       -      76 2019-09-30  \n",
       "31602       -     102 2019-09-30  \n",
       "31603       -     566 2019-09-30  \n",
       "31604       -     365 2019-09-30  \n",
       "\n",
       "[31605 rows x 9 columns]"
      ],
      "text/html": "<div>\n<style scoped>\n    .dataframe tbody tr th:only-of-type {\n        vertical-align: middle;\n    }\n\n    .dataframe tbody tr th {\n        vertical-align: top;\n    }\n\n    .dataframe thead th {\n        text-align: right;\n    }\n</style>\n<table border=\"1\" class=\"dataframe\">\n  <thead>\n    <tr style=\"text-align: right;\">\n      <th></th>\n      <th>company</th>\n      <th>machine</th>\n      <th>au12</th>\n      <th>rate_norm</th>\n      <th>rate_fact</th>\n      <th>low_rate</th>\n      <th>up_rate</th>\n      <th>residue</th>\n      <th>date</th>\n    </tr>\n  </thead>\n  <tbody>\n    <tr>\n      <th>0</th>\n      <td>1</td>\n      <td>ЩОМ-1200 № 16</td>\n      <td>1</td>\n      <td>-</td>\n      <td>-</td>\n      <td>-</td>\n      <td>-</td>\n      <td>622</td>\n      <td>2020-08-01</td>\n    </tr>\n    <tr>\n      <th>1</th>\n      <td>2</td>\n      <td>ЩОМ-1200М № 19</td>\n      <td>1</td>\n      <td>-</td>\n      <td>-</td>\n      <td>-</td>\n      <td>-</td>\n      <td>1395</td>\n      <td>2020-08-01</td>\n    </tr>\n    <tr>\n      <th>2</th>\n      <td>3</td>\n      <td>ТЭС-1000 № 3</td>\n      <td>1</td>\n      <td>-</td>\n      <td>-</td>\n      <td>-</td>\n      <td>-</td>\n      <td>2243</td>\n      <td>2020-08-01</td>\n    </tr>\n    <tr>\n      <th>3</th>\n      <td>4</td>\n      <td>ТЭС-1000 № 16</td>\n      <td>1</td>\n      <td>-</td>\n      <td>-</td>\n      <td>-</td>\n      <td>-</td>\n      <td>2268</td>\n      <td>2020-08-01</td>\n    </tr>\n    <tr>\n      <th>4</th>\n      <td>5</td>\n      <td>ТЭС-1000 № 19</td>\n      <td>1</td>\n      <td>-</td>\n      <td>-</td>\n      <td>-</td>\n      <td>-</td>\n      <td>3004</td>\n      <td>2020-08-01</td>\n    </tr>\n    <tr>\n      <th>...</th>\n      <td>...</td>\n      <td>...</td>\n      <td>...</td>\n      <td>...</td>\n      <td>...</td>\n      <td>...</td>\n      <td>...</td>\n      <td>...</td>\n      <td>...</td>\n    </tr>\n    <tr>\n      <th>31600</th>\n      <td>46</td>\n      <td>СМ-2 № 1596</td>\n      <td>1</td>\n      <td>-</td>\n      <td>-</td>\n      <td>-</td>\n      <td>-</td>\n      <td>5</td>\n      <td>2019-09-30</td>\n    </tr>\n    <tr>\n      <th>31601</th>\n      <td>47</td>\n      <td>СМ-2 № 1643</td>\n      <td>1</td>\n      <td>-</td>\n      <td>-</td>\n      <td>-</td>\n      <td>-</td>\n      <td>76</td>\n      <td>2019-09-30</td>\n    </tr>\n    <tr>\n      <th>31602</th>\n      <td>48</td>\n      <td>СМ-2 № 1764</td>\n      <td>1</td>\n      <td>-</td>\n      <td>-</td>\n      <td>-</td>\n      <td>-</td>\n      <td>102</td>\n      <td>2019-09-30</td>\n    </tr>\n    <tr>\n      <th>31603</th>\n      <td>49</td>\n      <td>ТЭС ПСС-1К № 62</td>\n      <td>1</td>\n      <td>267.4</td>\n      <td>254</td>\n      <td>13.4</td>\n      <td>-</td>\n      <td>566</td>\n      <td>2019-09-30</td>\n    </tr>\n    <tr>\n      <th>31604</th>\n      <td>50</td>\n      <td>КЖТ-4РС (KGT-4RS) № 4882</td>\n      <td>1</td>\n      <td>-</td>\n      <td>100</td>\n      <td>-</td>\n      <td>-</td>\n      <td>365</td>\n      <td>2019-09-30</td>\n    </tr>\n  </tbody>\n</table>\n<p>31605 rows × 9 columns</p>\n</div>"
     },
     "metadata": {},
     "execution_count": 162
    }
   ],
   "source": [
    "ssps_data"
   ]
  },
  {
   "cell_type": "code",
   "execution_count": 178,
   "metadata": {},
   "outputs": [],
   "source": [
    "ssps_data.to_csv('../data/prep/raw/ssps_data.csv', index=False)\n",
    "apvo_data.to_csv('../data/prep/raw/apvo_data.csv', index=False)"
   ]
  },
  {
   "cell_type": "code",
   "execution_count": 174,
   "metadata": {},
   "outputs": [],
   "source": [
    "ssps_data.to_excel('../data/prep/raw/ssps_data.xlsx', index=False)"
   ]
  },
  {
   "cell_type": "code",
   "execution_count": 176,
   "metadata": {},
   "outputs": [],
   "source": [
    "apvo_data.to_excel('../data/prep/raw/apvo_data.xlsx', index=False, engine='xlsxwriter')"
   ]
  },
  {
   "cell_type": "code",
   "execution_count": null,
   "metadata": {},
   "outputs": [],
   "source": []
  }
 ]
}