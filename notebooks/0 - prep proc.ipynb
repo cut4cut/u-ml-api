{
 "metadata": {
  "language_info": {
   "codemirror_mode": {
    "name": "ipython",
    "version": 3
   },
   "file_extension": ".py",
   "mimetype": "text/x-python",
   "name": "python",
   "nbconvert_exporter": "python",
   "pygments_lexer": "ipython3",
   "version": "3.7.2-final"
  },
  "orig_nbformat": 2,
  "kernelspec": {
   "name": "python3",
   "display_name": "Python 3"
  }
 },
 "nbformat": 4,
 "nbformat_minor": 2,
 "cells": [
  {
   "cell_type": "code",
   "execution_count": 1,
   "metadata": {},
   "outputs": [],
   "source": [
    "import pandas as pd"
   ]
  },
  {
   "cell_type": "code",
   "execution_count": 16,
   "metadata": {},
   "outputs": [],
   "source": [
    "def parse_type(r):\n",
    "    index = r.find('№')\n",
    "    machine_type = r[:index].replace(' ','')\n",
    "    number = r[index+1:].replace(' ','')\n",
    "    machine_number = r[index+1:].replace(' ','')\n",
    "    return (machine_type, machine_number)\n",
    "\n",
    "def parse_machine(r):\n",
    "    index = r.find('№')\n",
    "    machine_type = r[:index].replace(' ','')\n",
    "    number = r[index+1:].replace(' ','')\n",
    "    machine_number = str(number).zfill(8)\n",
    "    return (machine_type, machine_number)\n",
    "\n",
    "def parse_work_done(r):\n",
    "    #print(r)\n",
    "    arr = r.split(' ')\n",
    "    if len(arr) < 2:\n",
    "        return (None, None)\n",
    "    try:\n",
    "        value = float(arr[0])\n",
    "        mesure = arr[1]\n",
    "    except ValueError:\n",
    "        return (None, None)\n",
    "    return (value, mesure)"
   ]
  },
  {
   "cell_type": "code",
   "execution_count": 17,
   "metadata": {},
   "outputs": [],
   "source": [
    "file_path = '../data/prep/raw/{0}'"
   ]
  },
  {
   "cell_type": "code",
   "execution_count": 18,
   "metadata": {},
   "outputs": [],
   "source": [
    "apvo_data = pd.read_csv(file_path.format('apvo_data.csv'), engine='python')\n",
    "ssps_data = pd.read_csv(file_path.format('ssps_data.csv'), engine='python')"
   ]
  },
  {
   "cell_type": "code",
   "execution_count": 19,
   "metadata": {
    "tags": []
   },
   "outputs": [],
   "source": [
    "apvo_data['machine_type'], apvo_data['machine_number']= zip(* apvo_data.type.apply(parse_type) ) \n",
    "ssps_data['machine_type'], ssps_data['machine_number']= zip(* ssps_data.machine.apply(parse_machine) )"
   ]
  },
  {
   "cell_type": "code",
   "execution_count": 20,
   "metadata": {},
   "outputs": [],
   "source": [
    "apvo_data['value'], apvo_data['mesure'] = zip(* apvo_data.work_done_phis.apply(parse_work_done) )"
   ]
  },
  {
   "cell_type": "code",
   "execution_count": 21,
   "metadata": {},
   "outputs": [],
   "source": [
    "apvo_dataset = apvo_data[['date', 'machine_type', 'machine_number', 'company', 'type', 'volume',\n",
    "                          'work_area', 'work_kind', 'value', 'mesure', 'work_done_pas', 'window']]"
   ]
  },
  {
   "cell_type": "code",
   "execution_count": 22,
   "metadata": {},
   "outputs": [],
   "source": [
    "ssps_dataset = ssps_data[['date', 'machine_type', 'machine_number', 'company', 'au12', 'rate_norm',\n",
    "                          'rate_fact', 'low_rate', 'up_rate', 'residue']]"
   ]
  },
  {
   "cell_type": "code",
   "execution_count": 26,
   "metadata": {},
   "outputs": [],
   "source": [
    "apvo_dataset.to_csv('../data/prep/apvo_dataset.csv', index=False)\n",
    "ssps_dataset.to_csv('../data/prep/ssps_dataset.csv', index=False)"
   ]
  },
  {
   "cell_type": "code",
   "execution_count": 27,
   "metadata": {},
   "outputs": [
    {
     "output_type": "execute_result",
     "data": {
      "text/plain": [
       "             date      machine_type machine_number  company  au12 rate_norm  \\\n",
       "0      2020-08-01          ЩОМ-1200       00000016        1     1         -   \n",
       "1      2020-08-01         ЩОМ-1200М       00000019        2     1         -   \n",
       "2      2020-08-01          ТЭС-1000       00000003        3     1         -   \n",
       "3      2020-08-01          ТЭС-1000       00000016        4     1         -   \n",
       "4      2020-08-01          ТЭС-1000       00000019        5     1         -   \n",
       "...           ...               ...            ...      ...   ...       ...   \n",
       "31600  2019-09-30              СМ-2       00001596       46     1         -   \n",
       "31601  2019-09-30              СМ-2       00001643       47     1         -   \n",
       "31602  2019-09-30              СМ-2       00001764       48     1         -   \n",
       "31603  2019-09-30         ТЭСПСС-1К       00000062       49     1     267.4   \n",
       "31604  2019-09-30  КЖТ-4РС(KGT-4RS)       00004882       50     1         -   \n",
       "\n",
       "      rate_fact low_rate up_rate residue  \n",
       "0             -        -       -   622.0  \n",
       "1             -        -       -  1395.0  \n",
       "2             -        -       -  2243.0  \n",
       "3             -        -       -  2268.0  \n",
       "4             -        -       -  3004.0  \n",
       "...         ...      ...     ...     ...  \n",
       "31600         -        -       -     5.0  \n",
       "31601         -        -       -    76.0  \n",
       "31602         -        -       -   102.0  \n",
       "31603       254     13.4       -   566.0  \n",
       "31604       100        -       -   365.0  \n",
       "\n",
       "[31605 rows x 10 columns]"
      ],
      "text/html": "<div>\n<style scoped>\n    .dataframe tbody tr th:only-of-type {\n        vertical-align: middle;\n    }\n\n    .dataframe tbody tr th {\n        vertical-align: top;\n    }\n\n    .dataframe thead th {\n        text-align: right;\n    }\n</style>\n<table border=\"1\" class=\"dataframe\">\n  <thead>\n    <tr style=\"text-align: right;\">\n      <th></th>\n      <th>date</th>\n      <th>machine_type</th>\n      <th>machine_number</th>\n      <th>company</th>\n      <th>au12</th>\n      <th>rate_norm</th>\n      <th>rate_fact</th>\n      <th>low_rate</th>\n      <th>up_rate</th>\n      <th>residue</th>\n    </tr>\n  </thead>\n  <tbody>\n    <tr>\n      <th>0</th>\n      <td>2020-08-01</td>\n      <td>ЩОМ-1200</td>\n      <td>00000016</td>\n      <td>1</td>\n      <td>1</td>\n      <td>-</td>\n      <td>-</td>\n      <td>-</td>\n      <td>-</td>\n      <td>622.0</td>\n    </tr>\n    <tr>\n      <th>1</th>\n      <td>2020-08-01</td>\n      <td>ЩОМ-1200М</td>\n      <td>00000019</td>\n      <td>2</td>\n      <td>1</td>\n      <td>-</td>\n      <td>-</td>\n      <td>-</td>\n      <td>-</td>\n      <td>1395.0</td>\n    </tr>\n    <tr>\n      <th>2</th>\n      <td>2020-08-01</td>\n      <td>ТЭС-1000</td>\n      <td>00000003</td>\n      <td>3</td>\n      <td>1</td>\n      <td>-</td>\n      <td>-</td>\n      <td>-</td>\n      <td>-</td>\n      <td>2243.0</td>\n    </tr>\n    <tr>\n      <th>3</th>\n      <td>2020-08-01</td>\n      <td>ТЭС-1000</td>\n      <td>00000016</td>\n      <td>4</td>\n      <td>1</td>\n      <td>-</td>\n      <td>-</td>\n      <td>-</td>\n      <td>-</td>\n      <td>2268.0</td>\n    </tr>\n    <tr>\n      <th>4</th>\n      <td>2020-08-01</td>\n      <td>ТЭС-1000</td>\n      <td>00000019</td>\n      <td>5</td>\n      <td>1</td>\n      <td>-</td>\n      <td>-</td>\n      <td>-</td>\n      <td>-</td>\n      <td>3004.0</td>\n    </tr>\n    <tr>\n      <th>...</th>\n      <td>...</td>\n      <td>...</td>\n      <td>...</td>\n      <td>...</td>\n      <td>...</td>\n      <td>...</td>\n      <td>...</td>\n      <td>...</td>\n      <td>...</td>\n      <td>...</td>\n    </tr>\n    <tr>\n      <th>31600</th>\n      <td>2019-09-30</td>\n      <td>СМ-2</td>\n      <td>00001596</td>\n      <td>46</td>\n      <td>1</td>\n      <td>-</td>\n      <td>-</td>\n      <td>-</td>\n      <td>-</td>\n      <td>5.0</td>\n    </tr>\n    <tr>\n      <th>31601</th>\n      <td>2019-09-30</td>\n      <td>СМ-2</td>\n      <td>00001643</td>\n      <td>47</td>\n      <td>1</td>\n      <td>-</td>\n      <td>-</td>\n      <td>-</td>\n      <td>-</td>\n      <td>76.0</td>\n    </tr>\n    <tr>\n      <th>31602</th>\n      <td>2019-09-30</td>\n      <td>СМ-2</td>\n      <td>00001764</td>\n      <td>48</td>\n      <td>1</td>\n      <td>-</td>\n      <td>-</td>\n      <td>-</td>\n      <td>-</td>\n      <td>102.0</td>\n    </tr>\n    <tr>\n      <th>31603</th>\n      <td>2019-09-30</td>\n      <td>ТЭСПСС-1К</td>\n      <td>00000062</td>\n      <td>49</td>\n      <td>1</td>\n      <td>267.4</td>\n      <td>254</td>\n      <td>13.4</td>\n      <td>-</td>\n      <td>566.0</td>\n    </tr>\n    <tr>\n      <th>31604</th>\n      <td>2019-09-30</td>\n      <td>КЖТ-4РС(KGT-4RS)</td>\n      <td>00004882</td>\n      <td>50</td>\n      <td>1</td>\n      <td>-</td>\n      <td>100</td>\n      <td>-</td>\n      <td>-</td>\n      <td>365.0</td>\n    </tr>\n  </tbody>\n</table>\n<p>31605 rows × 10 columns</p>\n</div>"
     },
     "metadata": {},
     "execution_count": 27
    }
   ],
   "source": [
    "ssps_dataset"
   ]
  },
  {
   "cell_type": "code",
   "execution_count": 28,
   "metadata": {},
   "outputs": [
    {
     "output_type": "execute_result",
     "data": {
      "text/plain": [
       "             date      machine_type machine_number  \\\n",
       "0      2019-10-01   Унимат08-275/3S       00000040   \n",
       "1      2019-10-01   Унимат08-275/3S       00000040   \n",
       "2      2019-10-01   Унимат08-275/3S       00000040   \n",
       "3      2019-10-01  ДУОМАТИК09-32GSM       00000035   \n",
       "4      2019-10-01            РПБ-01       00000108   \n",
       "...           ...               ...            ...   \n",
       "41531  2020-05-31            ПМА-1М       00000012   \n",
       "41532  2020-05-31            РПБ-01       00000051   \n",
       "41533  2020-05-31            ПМА-1М       00000012   \n",
       "41534  2020-05-31            ПМА-1М       00000012   \n",
       "41535  2020-05-31            РПБ-01       00000051   \n",
       "\n",
       "                                        company                          type  \\\n",
       "0          ПЧ-23, ШЧ-9, ДС ЯКУШКА, ДСП АМИРОВКА    Унимат 08-275/3S№ 00000040   \n",
       "1        ПЧ-23, ШЧ-9, ДС ПОГРУЗНАЯ, ДСП Кармала    Унимат 08-275/3S№ 00000040   \n",
       "2      ПЧ-23, ШЧ-9, ДС ЯКУШКА, ДСП Б/П 1028 КМ     Унимат 08-275/3S№ 00000040   \n",
       "3                      ПЧ-14, РЦС-3, ШЧ-6, ЭЧ-7  ДУОМАТИК 09-32 GSM№ 00000035   \n",
       "4                      ПЧ-14, РЦС-3, ШЧ-6, ЭЧ-7              РПБ-01№ 00000108   \n",
       "...                                         ...                           ...   \n",
       "41531            ПЧ-20, ДС САРАНСК, ДС ЕЛОХОВКА              ПМА-1М№ 00000012   \n",
       "41532            ПЧ-20, ДС САРАНСК, ДС ЕЛОХОВКА              РПБ-01№ 00000051   \n",
       "41533            ПЧ-20, ДС САРАНСК, ДС ЕЛОХОВКА              ПМА-1М№ 00000012   \n",
       "41534            ПЧ-20, ДС САРАНСК, ДС ЕЛОХОВКА              ПМА-1М№ 00000012   \n",
       "41535            ПЧ-20, ДС САРАНСК, ДС ЕЛОХОВКА              РПБ-01№ 00000051   \n",
       "\n",
       "      volume                                       work_area        work_kind  \\\n",
       "0                                            АМИРОВКА  СТР 1    Работа УНИМАТ   \n",
       "1                               КАРМАЛА ,    п. 1      СТР 2    Работа УНИМАТ   \n",
       "2                                          ОП 1028 КМ  СТР 1    Работа УНИМАТ   \n",
       "3              АСЕКЕЕВО-ФИЛИППОВКА ,   п.2 1310пк8-1329пк10   Работа ДУОМАТИК   \n",
       "4              АСЕКЕЕВО-ФИЛИППОВКА ,   п.2 1310пк8-1329пк10        Работа РПБ   \n",
       "...      ...                                             ...              ...   \n",
       "41531                                                                           \n",
       "41532                                                                           \n",
       "41533                                                                           \n",
       "41534                                                                           \n",
       "41535                                                                           \n",
       "\n",
       "      value   mesure work_done_pas      window  \n",
       "0         1  стрелка                     120/0  \n",
       "1         1  стрелка                      90/0  \n",
       "2         1  стрелка                     120/0  \n",
       "3      1000        м                     120/0  \n",
       "4      1000        м                     120/0  \n",
       "...     ...      ...           ...         ...  \n",
       "41531  None     None                НЕТ ЗАЯВОК  \n",
       "41532  None     None                НЕТ ЗАЯВОК  \n",
       "41533  None     None                НЕТ ЗАЯВОК  \n",
       "41534  None     None                НЕТ ЗАЯВОК  \n",
       "41535  None     None                НЕТ ЗАЯВОК  \n",
       "\n",
       "[41536 rows x 12 columns]"
      ],
      "text/html": "<div>\n<style scoped>\n    .dataframe tbody tr th:only-of-type {\n        vertical-align: middle;\n    }\n\n    .dataframe tbody tr th {\n        vertical-align: top;\n    }\n\n    .dataframe thead th {\n        text-align: right;\n    }\n</style>\n<table border=\"1\" class=\"dataframe\">\n  <thead>\n    <tr style=\"text-align: right;\">\n      <th></th>\n      <th>date</th>\n      <th>machine_type</th>\n      <th>machine_number</th>\n      <th>company</th>\n      <th>type</th>\n      <th>volume</th>\n      <th>work_area</th>\n      <th>work_kind</th>\n      <th>value</th>\n      <th>mesure</th>\n      <th>work_done_pas</th>\n      <th>window</th>\n    </tr>\n  </thead>\n  <tbody>\n    <tr>\n      <th>0</th>\n      <td>2019-10-01</td>\n      <td>Унимат08-275/3S</td>\n      <td>00000040</td>\n      <td>ПЧ-23, ШЧ-9, ДС ЯКУШКА, ДСП АМИРОВКА</td>\n      <td>Унимат 08-275/3S№ 00000040</td>\n      <td></td>\n      <td>АМИРОВКА  СТР 1</td>\n      <td>Работа УНИМАТ</td>\n      <td>1</td>\n      <td>стрелка</td>\n      <td></td>\n      <td>120/0</td>\n    </tr>\n    <tr>\n      <th>1</th>\n      <td>2019-10-01</td>\n      <td>Унимат08-275/3S</td>\n      <td>00000040</td>\n      <td>ПЧ-23, ШЧ-9, ДС ПОГРУЗНАЯ, ДСП Кармала</td>\n      <td>Унимат 08-275/3S№ 00000040</td>\n      <td></td>\n      <td>КАРМАЛА ,    п. 1      СТР 2</td>\n      <td>Работа УНИМАТ</td>\n      <td>1</td>\n      <td>стрелка</td>\n      <td></td>\n      <td>90/0</td>\n    </tr>\n    <tr>\n      <th>2</th>\n      <td>2019-10-01</td>\n      <td>Унимат08-275/3S</td>\n      <td>00000040</td>\n      <td>ПЧ-23, ШЧ-9, ДС ЯКУШКА, ДСП Б/П 1028 КМ</td>\n      <td>Унимат 08-275/3S№ 00000040</td>\n      <td></td>\n      <td>ОП 1028 КМ  СТР 1</td>\n      <td>Работа УНИМАТ</td>\n      <td>1</td>\n      <td>стрелка</td>\n      <td></td>\n      <td>120/0</td>\n    </tr>\n    <tr>\n      <th>3</th>\n      <td>2019-10-01</td>\n      <td>ДУОМАТИК09-32GSM</td>\n      <td>00000035</td>\n      <td>ПЧ-14, РЦС-3, ШЧ-6, ЭЧ-7</td>\n      <td>ДУОМАТИК 09-32 GSM№ 00000035</td>\n      <td></td>\n      <td>АСЕКЕЕВО-ФИЛИППОВКА ,   п.2 1310пк8-1329пк10</td>\n      <td>Работа ДУОМАТИК</td>\n      <td>1000</td>\n      <td>м</td>\n      <td></td>\n      <td>120/0</td>\n    </tr>\n    <tr>\n      <th>4</th>\n      <td>2019-10-01</td>\n      <td>РПБ-01</td>\n      <td>00000108</td>\n      <td>ПЧ-14, РЦС-3, ШЧ-6, ЭЧ-7</td>\n      <td>РПБ-01№ 00000108</td>\n      <td></td>\n      <td>АСЕКЕЕВО-ФИЛИППОВКА ,   п.2 1310пк8-1329пк10</td>\n      <td>Работа РПБ</td>\n      <td>1000</td>\n      <td>м</td>\n      <td></td>\n      <td>120/0</td>\n    </tr>\n    <tr>\n      <th>...</th>\n      <td>...</td>\n      <td>...</td>\n      <td>...</td>\n      <td>...</td>\n      <td>...</td>\n      <td>...</td>\n      <td>...</td>\n      <td>...</td>\n      <td>...</td>\n      <td>...</td>\n      <td>...</td>\n      <td>...</td>\n    </tr>\n    <tr>\n      <th>41531</th>\n      <td>2020-05-31</td>\n      <td>ПМА-1М</td>\n      <td>00000012</td>\n      <td>ПЧ-20, ДС САРАНСК, ДС ЕЛОХОВКА</td>\n      <td>ПМА-1М№ 00000012</td>\n      <td></td>\n      <td></td>\n      <td></td>\n      <td>None</td>\n      <td>None</td>\n      <td></td>\n      <td>НЕТ ЗАЯВОК</td>\n    </tr>\n    <tr>\n      <th>41532</th>\n      <td>2020-05-31</td>\n      <td>РПБ-01</td>\n      <td>00000051</td>\n      <td>ПЧ-20, ДС САРАНСК, ДС ЕЛОХОВКА</td>\n      <td>РПБ-01№ 00000051</td>\n      <td></td>\n      <td></td>\n      <td></td>\n      <td>None</td>\n      <td>None</td>\n      <td></td>\n      <td>НЕТ ЗАЯВОК</td>\n    </tr>\n    <tr>\n      <th>41533</th>\n      <td>2020-05-31</td>\n      <td>ПМА-1М</td>\n      <td>00000012</td>\n      <td>ПЧ-20, ДС САРАНСК, ДС ЕЛОХОВКА</td>\n      <td>ПМА-1М№ 00000012</td>\n      <td></td>\n      <td></td>\n      <td></td>\n      <td>None</td>\n      <td>None</td>\n      <td></td>\n      <td>НЕТ ЗАЯВОК</td>\n    </tr>\n    <tr>\n      <th>41534</th>\n      <td>2020-05-31</td>\n      <td>ПМА-1М</td>\n      <td>00000012</td>\n      <td>ПЧ-20, ДС САРАНСК, ДС ЕЛОХОВКА</td>\n      <td>ПМА-1М№ 00000012</td>\n      <td></td>\n      <td></td>\n      <td></td>\n      <td>None</td>\n      <td>None</td>\n      <td></td>\n      <td>НЕТ ЗАЯВОК</td>\n    </tr>\n    <tr>\n      <th>41535</th>\n      <td>2020-05-31</td>\n      <td>РПБ-01</td>\n      <td>00000051</td>\n      <td>ПЧ-20, ДС САРАНСК, ДС ЕЛОХОВКА</td>\n      <td>РПБ-01№ 00000051</td>\n      <td></td>\n      <td></td>\n      <td></td>\n      <td>None</td>\n      <td>None</td>\n      <td></td>\n      <td>НЕТ ЗАЯВОК</td>\n    </tr>\n  </tbody>\n</table>\n<p>41536 rows × 12 columns</p>\n</div>"
     },
     "metadata": {},
     "execution_count": 28
    }
   ],
   "source": [
    "apvo_dataset."
   ]
  },
  {
   "cell_type": "code",
   "execution_count": null,
   "metadata": {},
   "outputs": [],
   "source": []
  }
 ]
}