{
 "metadata": {
  "language_info": {
   "codemirror_mode": {
    "name": "ipython",
    "version": 3
   },
   "file_extension": ".py",
   "mimetype": "text/x-python",
   "name": "python",
   "nbconvert_exporter": "python",
   "pygments_lexer": "ipython3",
   "version": "3.7.2-final"
  },
  "orig_nbformat": 2,
  "kernelspec": {
   "name": "python3",
   "display_name": "Python 3"
  }
 },
 "nbformat": 4,
 "nbformat_minor": 2,
 "cells": [
  {
   "cell_type": "code",
   "execution_count": 1,
   "metadata": {},
   "outputs": [],
   "source": [
    "import pandas as pd"
   ]
  },
  {
   "cell_type": "code",
   "execution_count": 41,
   "metadata": {},
   "outputs": [],
   "source": [
    "def parse_type(r):\n",
    "    index = r.find('№')\n",
    "    machine_type = r[:index].replace(' ','')\n",
    "    number = r[index+1:]#.replace(' ','')\n",
    "    machine_number = r[index+1:]\n",
    "    return (machine_type, machine_number)\n",
    "\n",
    "def parse_machine(r):\n",
    "    index = r.find('№')\n",
    "    machine_type = r[:index].replace(' ','')\n",
    "    number = r[index+1:].replace(' ','')\n",
    "    machine_number = str(number).zfill(8)\n",
    "    return (machine_type, machine_number)"
   ]
  },
  {
   "cell_type": "code",
   "execution_count": 5,
   "metadata": {},
   "outputs": [],
   "source": [
    "file_path = '../data/prep/raw/{0}'"
   ]
  },
  {
   "cell_type": "code",
   "execution_count": 40,
   "metadata": {},
   "outputs": [],
   "source": [
    "apvo_data = pd.read_csv(file_path.format('apvo_data.csv'), engine='python')\n",
    "ssps_data = pd.read_csv(file_path.format('ssps_data.csv'), engine='python')"
   ]
  },
  {
   "cell_type": "code",
   "execution_count": 42,
   "metadata": {
    "tags": []
   },
   "outputs": [
    {
     "output_type": "execute_result",
     "data": {
      "text/plain": [
       "0      (Унимат08-275/3S,  00000040)\n",
       "1      (Унимат08-275/3S,  00000040)\n",
       "2      (Унимат08-275/3S,  00000040)\n",
       "3     (ДУОМАТИК09-32GSM,  00000035)\n",
       "4               (РПБ-01,  00000108)\n",
       "                  ...              \n",
       "95             (МПТ-6.4,  00000433)\n",
       "96             (МПТ-6.4,  00000565)\n",
       "97               (МПТ-4,  00000771)\n",
       "98               (МПТ-4,  00000771)\n",
       "99               (МПТ-4,  00001178)\n",
       "Name: type, Length: 100, dtype: object"
      ]
     },
     "metadata": {},
     "execution_count": 42
    }
   ],
   "source": [
    "apvo_data[:100].type.apply(parse_type)"
   ]
  },
  {
   "cell_type": "code",
   "execution_count": 43,
   "metadata": {},
   "outputs": [
    {
     "output_type": "execute_result",
     "data": {
      "text/plain": [
       "0      (ЩОМ-1200, 00000016)\n",
       "1     (ЩОМ-1200М, 00000019)\n",
       "2      (ТЭС-1000, 00000003)\n",
       "3      (ТЭС-1000, 00000016)\n",
       "4      (ТЭС-1000, 00000019)\n",
       "              ...          \n",
       "95       (ПРСМ-4, 00000092)\n",
       "96       (ПРСМ-4, 00000131)\n",
       "97    (УК25/9-18, 00000693)\n",
       "98    (УК25/9-18, 00000801)\n",
       "99     (УК-25/25, 00000039)\n",
       "Name: machine, Length: 100, dtype: object"
      ]
     },
     "metadata": {},
     "execution_count": 43
    }
   ],
   "source": [
    "ssps_data[:100].machine.apply(parse_machine)"
   ]
  },
  {
   "cell_type": "code",
   "execution_count": null,
   "metadata": {},
   "outputs": [],
   "source": []
  }
 ]
}